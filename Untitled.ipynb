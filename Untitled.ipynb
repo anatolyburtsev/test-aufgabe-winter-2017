{
 "cells": [
  {
   "cell_type": "code",
   "execution_count": 1,
   "metadata": {},
   "outputs": [],
   "source": [
    "import pandas as pd\n",
    "from sklearn.feature_extraction.text import CountVectorizer\n",
    "import numpy as np\n",
    "from sklearn.model_selection import train_test_split\n",
    "from sklearn.linear_model import LogisticRegression\n",
    "from sklearn.metrics import accuracy_score\n",
    "from sklearn.model_selection import cross_val_score\n",
    "from sklearn.pipeline import make_pipeline\n",
    "from sklearn.feature_extraction.text import TfidfTransformer\n",
    "from sklearn.naive_bayes import MultinomialNB\n",
    "from scipy.sparse import coo_matrix, hstack, vstack\n",
    "from sklearn.preprocessing import StandardScaler\n",
    "from sklearn.metrics import confusion_matrix\n",
    "\n",
    "from preprocessing_tools import prepare_processing\n",
    "import preprocessing_tools\n",
    "from stop_words_tools import find_stop_words_array, find_cat\n",
    "from confustion_matrix_tools import visualize_confusion_matrix\n",
    "\n",
    "%matplotlib inline"
   ]
  },
  {
   "cell_type": "code",
   "execution_count": 2,
   "metadata": {},
   "outputs": [],
   "source": [
    "preprocessing_tools.ENABLE_MORPHING = False"
   ]
  },
  {
   "cell_type": "code",
   "execution_count": 3,
   "metadata": {
    "collapsed": true
   },
   "outputs": [],
   "source": [
    "train = pd.read_csv(\"train.csv\")\n",
    "category = pd.read_csv(\"category.csv\")"
   ]
  },
  {
   "cell_type": "code",
   "execution_count": 4,
   "metadata": {},
   "outputs": [],
   "source": [
    "hard_limit = 500000\n",
    "train = train.head(n = hard_limit)\n",
    "X = train[\"description\"] + \" \" + train[\"title\"]\n",
    "X = X.iloc[:hard_limit].values\n",
    "X = prepare_processing(X)\n",
    "y = train.iloc[:hard_limit,-1].values\n",
    "X_train, X_test, y_train, y_test = train_test_split(X, y, test_size=0.30,\n",
    "                                                    random_state=42, shuffle = True)\n",
    "# y_train_4cat = np.apply_along_axis(find_cat, 1, y.reshape((y_train.shape[0],1)))"
   ]
  },
  {
   "cell_type": "code",
   "execution_count": 5,
   "metadata": {},
   "outputs": [],
   "source": [
    "y_train_4cat = np.apply_along_axis(find_cat, 1, y_train.reshape((y_train.shape[0],1)))\n",
    "y_test_4cat = np.apply_along_axis(find_cat, 1, y_test.reshape((y_test.shape[0],1)))"
   ]
  },
  {
   "cell_type": "code",
   "execution_count": 6,
   "metadata": {},
   "outputs": [
    {
     "name": "stdout",
     "output_type": "stream",
     "text": [
      "CPU times: user 12.4 s, sys: 2.93 s, total: 15.3 s\n",
      "Wall time: 16.4 s\n"
     ]
    }
   ],
   "source": [
    "%%time\n",
    "common_stop_words = [\"а\", \"е\", \"и\", \"ж\", \"м\", \"о\", \"на\", \"не\", \"ни\", \"об\", \"но\", \"он\", \"мне\", \"мои\", \"мож\", \"она\", \"они\", \"оно\", \"мной\", \"много\", \"многочисленное\", \"многочисленная\", \"многочисленные\", \"многочисленный\", \"мною\", \"мой\", \"мог\", \"могут\", \"можно\", \"может\", \"можхо\", \"мор\", \"моя\", \"моё\", \"мочь\", \"над\", \"нее\", \"оба\", \"нам\", \"нем\", \"нами\", \"ними\", \"мимо\", \"немного\", \"одной\", \"одного\", \"менее\", \"однажды\", \"однако\", \"меня\", \"нему\", \"меньше\", \"ней\", \"наверху\", \"него\", \"ниже\", \"мало\", \"надо\", \"один\", \"одиннадцать\", \"одиннадцатый\", \"назад\", \"наиболее\", \"недавно\", \"миллионов\", \"недалеко\", \"между\", \"низко\", \"меля\", \"нельзя\", \"нибудь\", \"непрерывно\", \"наконец\", \"никогда\", \"никуда\", \"нас\", \"наш\", \"нет\", \"нею\", \"неё\", \"них\", \"мира\", \"наша\", \"наше\", \"наши\", \"ничего\", \"начала\", \"нередко\", \"несколько\", \"обычно\", \"опять\", \"около\", \"мы\", \"ну\", \"нх\", \"от\", \"отовсюду\", \"особенно\", \"нужно\", \"очень\", \"отсюда\", \"в\", \"во\", \"вон\", \"вниз\", \"внизу\", \"вокруг\", \"вот\", \"восемнадцать\", \"восемнадцатый\", \"восемь\", \"восьмой\", \"вверх\", \"вам\", \"вами\", \"важное\", \"важная\", \"важные\", \"важный\", \"вдали\", \"везде\", \"ведь\", \"вас\", \"ваш\", \"ваша\", \"ваше\", \"ваши\", \"впрочем\", \"весь\", \"вдруг\", \"вы\", \"все\", \"второй\", \"всем\", \"всеми\", \"времени\", \"время\", \"всему\", \"всего\", \"всегда\", \"всех\", \"всею\", \"всю\", \"вся\", \"всё\", \"всюду\", \"г\", \"год\", \"говорил\", \"говорит\", \"года\", \"году\", \"где\", \"да\", \"ее\", \"за\", \"из\", \"ли\", \"же\", \"им\", \"до\", \"по\", \"ими\", \"под\", \"иногда\", \"довольно\", \"именно\", \"долго\", \"позже\", \"более\", \"должно\", \"пожалуйста\", \"значит\", \"иметь\", \"больше\", \"пока\", \"ему\", \"имя\", \"пор\", \"пора\", \"потом\", \"потому\", \"после\", \"почему\", \"почти\", \"посреди\", \"ей\", \"два\", \"две\", \"двенадцать\", \"двенадцатый\", \"двадцать\", \"двадцатый\", \"двух\", \"его\", \"дел\", \"или\", \"без\", \"день\", \"занят\", \"занята\", \"занято\", \"заняты\", \"действительно\", \"давно\", \"девятнадцать\", \"девятнадцатый\", \"девять\", \"девятый\", \"даже\", \"алло\", \"жизнь\", \"далеко\", \"близко\", \"здесь\", \"дальше\", \"для\", \"лет\", \"зато\", \"даром\", \"первый\", \"перед\", \"затем\", \"зачем\", \"лишь\", \"десять\", \"десятый\", \"ею\", \"её\", \"их\", \"бы\", \"еще\", \"при\", \"был\", \"про\", \"процентов\", \"против\", \"просто\", \"бывает\", \"бывь\", \"если\", \"люди\", \"была\", \"были\", \"было\", \"будем\", \"будет\", \"будете\", \"будешь\", \"прекрасно\", \"буду\", \"будь\", \"будто\", \"будут\", \"ещё\", \"пятнадцать\", \"пятнадцатый\", \"друго\", \"другое\", \"другой\", \"другие\", \"другая\", \"других\", \"есть\", \"пять\", \"быть\", \"лучше\", \"пятый\", \"к\", \"ком\", \"конечно\", \"кому\", \"кого\", \"когда\", \"которой\", \"которого\", \"которая\", \"которые\", \"который\", \"которых\", \"кем\", \"каждое\", \"каждая\", \"каждые\", \"каждый\", \"кажется\", \"как\", \"какой\", \"какая\", \"кто\", \"кроме\", \"куда\", \"кругом\", \"с\", \"т\", \"у\", \"я\", \"та\", \"те\", \"уж\", \"со\", \"то\", \"том\", \"снова\", \"тому\", \"совсем\", \"того\", \"тогда\", \"тоже\", \"собой\", \"тобой\", \"собою\", \"тобою\", \"сначала\", \"только\", \"уметь\", \"тот\", \"тою\", \"хорошо\", \"хотеть\", \"хочешь\", \"хоть\", \"хотя\", \"свое\", \"свои\", \"твой\", \"своей\", \"своего\", \"своих\", \"свою\", \"твоя\", \"твоё\", \"раз\", \"уже\", \"сам\", \"там\", \"тем\", \"чем\", \"сама\", \"сами\", \"теми\", \"само\", \"рано\", \"самом\", \"самому\", \"самой\", \"самого\", \"семнадцать\", \"семнадцатый\", \"самим\", \"самими\", \"самих\", \"саму\", \"семь\", \"чему\", \"раньше\", \"сейчас\", \"чего\", \"сегодня\", \"себе\", \"тебе\", \"сеаой\", \"человек\", \"разве\", \"теперь\", \"себя\", \"тебя\", \"седьмой\", \"спасибо\", \"слишком\", \"так\", \"такое\", \"такой\", \"такие\", \"также\", \"такая\", \"сих\", \"тех\", \"чаще\", \"четвертый\", \"через\", \"часто\", \"шестой\", \"шестнадцать\", \"шестнадцатый\", \"шесть\", \"четыре\", \"четырнадцать\", \"четырнадцатый\", \"сколько\", \"сказал\", \"сказала\", \"сказать\", \"ту\", \"ты\", \"три\", \"эта\", \"эти\", \"что\", \"это\", \"чтоб\", \"этом\", \"этому\", \"этой\", \"этого\", \"чтобы\", \"этот\", \"стал\", \"туда\", \"этим\", \"этими\", \"рядом\", \"тринадцать\", \"тринадцатый\", \"этих\", \"третий\", \"тут\", \"эту\", \"суть\", \"чуть\", \"тысяч\"]\n",
    "stop_words = find_stop_words_array(X_train, y_train_4cat) + common_stop_words"
   ]
  },
  {
   "cell_type": "code",
   "execution_count": 7,
   "metadata": {},
   "outputs": [
    {
     "name": "stdout",
     "output_type": "stream",
     "text": [
      "0.957182546168\n",
      "CPU times: user 51 s, sys: 2.19 s, total: 53.2 s\n",
      "Wall time: 53.9 s\n"
     ]
    }
   ],
   "source": [
    "%%time\n",
    "pipeline_4_category = make_pipeline(CountVectorizer(min_df=1, ngram_range=(1, 1), stop_words=stop_words),\n",
    "                             TfidfTransformer(sublinear_tf=False, smooth_idf=True),\n",
    "                             LogisticRegression(solver='saga', multi_class='multinomial',\n",
    "                                                random_state=0)\n",
    "                            )\n",
    "pipeline_4_category.fit(X_train, y_train_4cat)\n",
    "print(accuracy_score(pipeline_4_category.predict(X_test), y_test_4cat))\n"
   ]
  },
  {
   "cell_type": "code",
   "execution_count": 8,
   "metadata": {},
   "outputs": [
    {
     "name": "stdout",
     "output_type": "stream",
     "text": [
      "item_id\n",
      "title\n",
      "description\n",
      "price\n",
      "category_id\n"
     ]
    }
   ],
   "source": [
    "for i in train:\n",
    "    print (i)"
   ]
  },
  {
   "cell_type": "code",
   "execution_count": 9,
   "metadata": {
    "collapsed": true
   },
   "outputs": [],
   "source": [
    "class predict_model:\n",
    "    train = \"\"\n",
    "    X = \"\"\n",
    "    y = \"\"\n",
    "    X_train = \"\"\n",
    "    X_test = \"\"\n",
    "    y_train = \"\"\n",
    "    y_test = \"\"\n",
    "    pipeline = \"\"\n",
    "    y_predicted = \"\"\n",
    "    \n",
    "    def __init__(this, train):\n",
    "        this.train = train"
   ]
  },
  {
   "cell_type": "code",
   "execution_count": 10,
   "metadata": {},
   "outputs": [],
   "source": [
    "train[\"text\"] = X\n",
    "train_light = train.drop(['title', 'description'], axis = 1)\n",
    "train_1 = train_light.query(\"category_id < 15\")\n",
    "train_2 = train_light.query(\"category_id < 30\").query(\"category_id >= 15\")\n",
    "train_3 = train_light.query(\"category_id < 42\").query(\"category_id >= 30\")\n",
    "train_4 = train_light.query(\"category_id >= 42\")\n",
    "models = [predict_model(train_1), predict_model(train_2), predict_model(train_3), \n",
    "          predict_model(train_4)]"
   ]
  },
  {
   "cell_type": "code",
   "execution_count": 11,
   "metadata": {},
   "outputs": [],
   "source": [
    "for model in models:\n",
    "    model.X = model.train.drop([\"item_id\", \"category_id\"], axis = 1)\n",
    "    model.y = model.train[\"category_id\"].values\n",
    "    model.X_train, model.X_test, model.y_train, model.y_test =\\\n",
    "    train_test_split(model.X, model.y, test_size=0.2, random_state=42, shuffle = True)"
   ]
  },
  {
   "cell_type": "code",
   "execution_count": 12,
   "metadata": {},
   "outputs": [
    {
     "name": "stdout",
     "output_type": "stream",
     "text": [
      "0.937228778074\n",
      "0.886698447973\n",
      "0.90246971109\n",
      "0.909674523008\n"
     ]
    }
   ],
   "source": [
    "for mdl in models:\n",
    "    pipeline = make_pipeline(CountVectorizer(min_df=1, ngram_range=(1, 1), stop_words=stop_words),\n",
    "                         TfidfTransformer(sublinear_tf=False, smooth_idf=True),\n",
    "                         LogisticRegression(solver='saga', multi_class='multinomial',\n",
    "                                            random_state=0)\n",
    "                        )\n",
    "    pipeline.fit(mdl.X_train[\"text\"], mdl.y_train)\n",
    "    mdl.pipeline = pipeline\n",
    "    mdl.y_predicted = pipeline.predict(mdl.X_test[\"text\"])\n",
    "    print(accuracy_score(mdl.y_predicted, mdl.y_test))"
   ]
  },
  {
   "cell_type": "code",
   "execution_count": 13,
   "metadata": {},
   "outputs": [],
   "source": [
    "y_predicted = models[0].X_test\n",
    "y_test_reunioned = models[0].y_test\n",
    "for i in range(1, len(models)):\n",
    "    y_predicted = y_predicted.append(models[i].X_test)\n",
    "    y_test_reunioned = np.concatenate((y_test_reunioned, models[i].y_test), axis=0)"
   ]
  },
  {
   "cell_type": "code",
   "execution_count": 14,
   "metadata": {},
   "outputs": [],
   "source": [
    "predict_by_4_cat = pipeline_4_category.predict(X_test)\n",
    "predict_by_all_cat = []\n",
    "for i in range(predict_by_4_cat.shape[0]):\n",
    "    current_predict = models[predict_by_4_cat[i]].pipeline.predict([X_test[i]])\n",
    "    predict_by_all_cat.append(current_predict[0])"
   ]
  },
  {
   "cell_type": "code",
   "execution_count": 15,
   "metadata": {},
   "outputs": [
    {
     "data": {
      "text/plain": [
       "0.89957509396960289"
      ]
     },
     "execution_count": 15,
     "metadata": {},
     "output_type": "execute_result"
    }
   ],
   "source": [
    "accuracy_score(predict_by_all_cat, y_test)"
   ]
  },
  {
   "cell_type": "code",
   "execution_count": 32,
   "metadata": {},
   "outputs": [
    {
     "data": {
      "image/png": "[encoded data removed]",
      "text/plain": [
       "<matplotlib.figure.Figure at 0x3f0f9fa90>"
      ]
     },
     "metadata": {},
     "output_type": "display_data"
    }
   ],
   "source": [
    "for mdl in [models[1]]:\n",
    "    visualize_confusion_matrix(confusion_matrix(mdl.y_test, mdl.y_predicted))"
   ]
  },
  {
   "cell_type": "code",
   "execution_count": 34,
   "metadata": {},
   "outputs": [
    {
     "data": {
      "text/plain": [
       "[(15, 22, 104),\n",
       " (17, 22, 208),\n",
       " (18, 22, 169),\n",
       " (22, 15, 119),\n",
       " (22, 17, 300),\n",
       " (22, 18, 325)]"
      ]
     },
     "execution_count": 34,
     "metadata": {},
     "output_type": "execute_result"
    }
   ],
   "source": [
    "mdl = models[1]\n",
    "conf_matr = confusion_matrix(mdl.y_test, mdl.y_predicted)\n",
    "limit = 100\n",
    "failed_pairs = []\n",
    "for i in range(len(conf_matr)):\n",
    "    for j in range(len(conf_matr[i])):\n",
    "        if i != j and conf_matr[i][j] > 100:\n",
    "            failed_pairs.append((i + 14, j + 14, conf_matr[i,j]))\n",
    "failed_pairs"
   ]
  },
  {
   "cell_type": "code",
   "execution_count": 24,
   "metadata": {},
   "outputs": [
    {
     "data": {
      "text/plain": [
       "array([[1696,    0,   89,    0,   15,    8,   55,    2,   13,    5,   25,\n",
       "           0,    6,   23,    1],\n",
       "       [   3, 1446,    0,   18,    3,    0,    1,   16,  104,    0,    0,\n",
       "           0,   11,    0,    0],\n",
       "       [  64,    0, 1671,    2,    5,   10,   26,    3,    4,    3,    7,\n",
       "           5,    1,    4,   12],\n",
       "       [   2,   17,    0, 1695,    6,    1,    2,   25,  208,    0,    5,\n",
       "           0,    0,    0,    1],\n",
       "       [  22,    9,    8,   16, 1331,   81,    5,   24,  169,   33,    2,\n",
       "           0,   59,   20,    1],\n",
       "       [   9,    0,    6,    0,   53, 1674,    6,    1,   11,    6,    0,\n",
       "           0,    0,    1,   23],\n",
       "       [  83,    0,   22,    3,    5,    7, 1839,    0,   31,    1,    4,\n",
       "           3,    0,    0,    4],\n",
       "       [   5,   17,    3,   16,   12,    2,    0, 1858,   49,    2,    0,\n",
       "           1,    2,    1,    0],\n",
       "       [  50,  119,   14,  300,  325,   15,   42,   65,  878,   12,   16,\n",
       "           0,   97,    9,    1],\n",
       "       [  27,    0,    8,    1,   22,    0,    3,    0,    4, 1734,    0,\n",
       "           0,    0,    9,    1],\n",
       "       [  29,    0,    4,    0,    1,    1,    5,    0,    5,    0, 1617,\n",
       "           0,    1,    0,    1],\n",
       "       [   5,    1,   10,    1,    2,    0,    7,    0,    5,    0,    0,\n",
       "        1761,    0,    0,    8],\n",
       "       [   9,   13,    3,    0,   23,    2,    6,    4,   57,    1,    1,\n",
       "           0, 1726,    1,    0],\n",
       "       [  15,    1,   11,    0,   39,   10,    2,    1,   14,    1,    0,\n",
       "           0,    5, 1855,    0],\n",
       "       [   5,    0,   17,    1,    1,   18,   17,    0,    4,    1,    0,\n",
       "           3,    0,    0, 1957]])"
      ]
     },
     "execution_count": 24,
     "metadata": {},
     "output_type": "execute_result"
    }
   ],
   "source": [
    "conf_matr"
   ]
  },
  {
   "cell_type": "code",
   "execution_count": 17,
   "metadata": {},
   "outputs": [],
   "source": [
    "# # price column \n",
    "# def price_column(X):\n",
    "#     return np.array(\n",
    "#         scaler.fit_transform(X[\"price\"].values.reshape(len(X[\"price\"]), 1)))\n",
    "\n",
    "# count_vectorizer = CountVectorizer(min_df=1, ngram_range=(1, 2), stop_words=stop_words)\n",
    "# transformer = TfidfTransformer(sublinear_tf=False, smooth_idf=True)\n",
    "# regressor = LogisticRegression(max_iter = 100000, solver='saga', multi_class='multinomial', random_state=0)\n",
    "# scaler = StandardScaler(with_mean=False)\n",
    "\n",
    "# ENABLE_PRICE_COLUMN = False\n",
    "# X1train_transformed = count_vectorizer.fit_transform(X1_train[\"text\"])\n",
    "# X1train_transformed = transformer.fit_transform(X1train_transformed)\n",
    "# if ENABLE_PRICE_COLUMN: X1train_transformed = hstack((X1train_transformed, price_column(X1_train)))\n",
    "# regressor.fit(X1train_transformed, y1_train)\n",
    "\n",
    "# X1test_transformed = count_vectorizer.transform(X1_test[\"text\"])\n",
    "# X1test_transformed = transformer.transform(X1test_transformed)\n",
    "# if ENABLE_PRICE_COLUMN: X1test_transformed = hstack((X1test_transformed, price_column(X1_test)))\n",
    "    \n",
    "# print(accuracy_score(regressor.predict(X1test_transformed), y1_test))"
   ]
  }
 ],
 "metadata": {
  "kernelspec": {
   "display_name": "Python 3",
   "language": "python",
   "name": "python3"
  },
  "language_info": {
   "codemirror_mode": {
    "name": "ipython",
    "version": 3
   },
   "file_extension": ".py",
   "mimetype": "text/x-python",
   "name": "python",
   "nbconvert_exporter": "python",
   "pygments_lexer": "ipython3",
   "version": "3.6.2"
  }
 },
 "nbformat": 4,
 "nbformat_minor": 2
}
