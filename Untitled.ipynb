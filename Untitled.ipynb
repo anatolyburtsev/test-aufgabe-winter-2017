{
 "cells": [
  {
   "cell_type": "markdown",
   "metadata": {},
   "source": []
  },
  {
   "cell_type": "code",
   "execution_count": 1,
   "metadata": {},
   "outputs": [],
   "source": [
    "import pandas as pd\n",
    "from sklearn.feature_extraction.text import CountVectorizer\n",
    "import numpy as np\n",
    "from sklearn.model_selection import train_test_split\n",
    "from sklearn.linear_model import LogisticRegression\n",
    "from sklearn.metrics import accuracy_score\n",
    "from sklearn.model_selection import cross_val_score\n",
    "from sklearn.pipeline import make_pipeline\n",
    "from sklearn.feature_extraction.text import TfidfTransformer\n",
    "from sklearn.naive_bayes import MultinomialNB\n",
    "from scipy.sparse import coo_matrix, hstack, vstack\n",
    "from sklearn.preprocessing import StandardScaler\n",
    "from sklearn.metrics import confusion_matrix\n",
    "import statistics as st\n",
    "\n",
    "from preprocessing_tools import prepare_processing\n",
    "import preprocessing_tools\n",
    "from stop_words_tools import find_stop_words_array, find_cat\n",
    "from confustion_matrix_tools import visualize_confusion_matrix\n",
    "\n",
    "%matplotlib inline\n",
    "pd.options.mode.chained_assignment = None"
   ]
  },
  {
   "cell_type": "code",
   "execution_count": 2,
   "metadata": {},
   "outputs": [],
   "source": [
    "preprocessing_tools.ENABLE_MORPHING = False"
   ]
  },
  {
   "cell_type": "code",
   "execution_count": 3,
   "metadata": {
    "collapsed": true
   },
   "outputs": [],
   "source": [
    "train = pd.read_csv(\"train.csv\")\n",
    "category = pd.read_csv(\"category.csv\")"
   ]
  },
  {
   "cell_type": "code",
   "execution_count": 4,
   "metadata": {},
   "outputs": [],
   "source": [
    "hard_limit = 5000\n",
    "train = train.head(n = hard_limit)\n",
    "X = train[\"description\"] + \" \" + train[\"title\"]\n",
    "X = X.iloc[:hard_limit].values\n",
    "X = prepare_processing(X)\n",
    "y = train.iloc[:hard_limit,-1].values\n",
    "X_train, X_test, y_train, y_test = train_test_split(X, y, test_size=0.30,\n",
    "                                                    random_state=42, shuffle = True)\n",
    "y_train_4cat = np.apply_along_axis(find_cat, 1, y_train.reshape((y_train.shape[0],1)))\n",
    "y_test_4cat = np.apply_along_axis(find_cat, 1, y_test.reshape((y_test.shape[0],1)))"
   ]
  },
  {
   "cell_type": "code",
   "execution_count": 5,
   "metadata": {},
   "outputs": [
    {
     "name": "stdout",
     "output_type": "stream",
     "text": [
      "CPU times: user 232 ms, sys: 5.28 ms, total: 237 ms\n",
      "Wall time: 239 ms\n"
     ]
    }
   ],
   "source": [
    "%%time\n",
    "common_stop_words = [\"а\", \"е\", \"и\", \"ж\", \"м\", \"о\", \"на\", \"не\", \"ни\", \"об\", \"но\", \"он\", \"мне\", \"мои\", \"мож\", \"она\", \"они\", \"оно\", \"мной\", \"много\", \"многочисленное\", \"многочисленная\", \"многочисленные\", \"многочисленный\", \"мною\", \"мой\", \"мог\", \"могут\", \"можно\", \"может\", \"можхо\", \"мор\", \"моя\", \"моё\", \"мочь\", \"над\", \"нее\", \"оба\", \"нам\", \"нем\", \"нами\", \"ними\", \"мимо\", \"немного\", \"одной\", \"одного\", \"менее\", \"однажды\", \"однако\", \"меня\", \"нему\", \"меньше\", \"ней\", \"наверху\", \"него\", \"ниже\", \"мало\", \"надо\", \"один\", \"одиннадцать\", \"одиннадцатый\", \"назад\", \"наиболее\", \"недавно\", \"миллионов\", \"недалеко\", \"между\", \"низко\", \"меля\", \"нельзя\", \"нибудь\", \"непрерывно\", \"наконец\", \"никогда\", \"никуда\", \"нас\", \"наш\", \"нет\", \"нею\", \"неё\", \"них\", \"мира\", \"наша\", \"наше\", \"наши\", \"ничего\", \"начала\", \"нередко\", \"несколько\", \"обычно\", \"опять\", \"около\", \"мы\", \"ну\", \"нх\", \"от\", \"отовсюду\", \"особенно\", \"нужно\", \"очень\", \"отсюда\", \"в\", \"во\", \"вон\", \"вниз\", \"внизу\", \"вокруг\", \"вот\", \"восемнадцать\", \"восемнадцатый\", \"восемь\", \"восьмой\", \"вверх\", \"вам\", \"вами\", \"важное\", \"важная\", \"важные\", \"важный\", \"вдали\", \"везде\", \"ведь\", \"вас\", \"ваш\", \"ваша\", \"ваше\", \"ваши\", \"впрочем\", \"весь\", \"вдруг\", \"вы\", \"все\", \"второй\", \"всем\", \"всеми\", \"времени\", \"время\", \"всему\", \"всего\", \"всегда\", \"всех\", \"всею\", \"всю\", \"вся\", \"всё\", \"всюду\", \"г\", \"год\", \"говорил\", \"говорит\", \"года\", \"году\", \"где\", \"да\", \"ее\", \"за\", \"из\", \"ли\", \"же\", \"им\", \"до\", \"по\", \"ими\", \"под\", \"иногда\", \"довольно\", \"именно\", \"долго\", \"позже\", \"более\", \"должно\", \"пожалуйста\", \"значит\", \"иметь\", \"больше\", \"пока\", \"ему\", \"имя\", \"пор\", \"пора\", \"потом\", \"потому\", \"после\", \"почему\", \"почти\", \"посреди\", \"ей\", \"два\", \"две\", \"двенадцать\", \"двенадцатый\", \"двадцать\", \"двадцатый\", \"двух\", \"его\", \"дел\", \"или\", \"без\", \"день\", \"занят\", \"занята\", \"занято\", \"заняты\", \"действительно\", \"давно\", \"девятнадцать\", \"девятнадцатый\", \"девять\", \"девятый\", \"даже\", \"алло\", \"жизнь\", \"далеко\", \"близко\", \"здесь\", \"дальше\", \"для\", \"лет\", \"зато\", \"даром\", \"первый\", \"перед\", \"затем\", \"зачем\", \"лишь\", \"десять\", \"десятый\", \"ею\", \"её\", \"их\", \"бы\", \"еще\", \"при\", \"был\", \"про\", \"процентов\", \"против\", \"просто\", \"бывает\", \"бывь\", \"если\", \"люди\", \"была\", \"были\", \"было\", \"будем\", \"будет\", \"будете\", \"будешь\", \"прекрасно\", \"буду\", \"будь\", \"будто\", \"будут\", \"ещё\", \"пятнадцать\", \"пятнадцатый\", \"друго\", \"другое\", \"другой\", \"другие\", \"другая\", \"других\", \"есть\", \"пять\", \"быть\", \"лучше\", \"пятый\", \"к\", \"ком\", \"конечно\", \"кому\", \"кого\", \"когда\", \"которой\", \"которого\", \"которая\", \"которые\", \"который\", \"которых\", \"кем\", \"каждое\", \"каждая\", \"каждые\", \"каждый\", \"кажется\", \"как\", \"какой\", \"какая\", \"кто\", \"кроме\", \"куда\", \"кругом\", \"с\", \"т\", \"у\", \"я\", \"та\", \"те\", \"уж\", \"со\", \"то\", \"том\", \"снова\", \"тому\", \"совсем\", \"того\", \"тогда\", \"тоже\", \"собой\", \"тобой\", \"собою\", \"тобою\", \"сначала\", \"только\", \"уметь\", \"тот\", \"тою\", \"хорошо\", \"хотеть\", \"хочешь\", \"хоть\", \"хотя\", \"свое\", \"свои\", \"твой\", \"своей\", \"своего\", \"своих\", \"свою\", \"твоя\", \"твоё\", \"раз\", \"уже\", \"сам\", \"там\", \"тем\", \"чем\", \"сама\", \"сами\", \"теми\", \"само\", \"рано\", \"самом\", \"самому\", \"самой\", \"самого\", \"семнадцать\", \"семнадцатый\", \"самим\", \"самими\", \"самих\", \"саму\", \"семь\", \"чему\", \"раньше\", \"сейчас\", \"чего\", \"сегодня\", \"себе\", \"тебе\", \"сеаой\", \"человек\", \"разве\", \"теперь\", \"себя\", \"тебя\", \"седьмой\", \"спасибо\", \"слишком\", \"так\", \"такое\", \"такой\", \"такие\", \"также\", \"такая\", \"сих\", \"тех\", \"чаще\", \"четвертый\", \"через\", \"часто\", \"шестой\", \"шестнадцать\", \"шестнадцатый\", \"шесть\", \"четыре\", \"четырнадцать\", \"четырнадцатый\", \"сколько\", \"сказал\", \"сказала\", \"сказать\", \"ту\", \"ты\", \"три\", \"эта\", \"эти\", \"что\", \"это\", \"чтоб\", \"этом\", \"этому\", \"этой\", \"этого\", \"чтобы\", \"этот\", \"стал\", \"туда\", \"этим\", \"этими\", \"рядом\", \"тринадцать\", \"тринадцатый\", \"этих\", \"третий\", \"тут\", \"эту\", \"суть\", \"чуть\", \"тысяч\"]\n",
    "stop_words = find_stop_words_array(X_train, y_train_4cat) + common_stop_words"
   ]
  },
  {
   "cell_type": "code",
   "execution_count": 6,
   "metadata": {},
   "outputs": [
    {
     "name": "stdout",
     "output_type": "stream",
     "text": [
      "0.885333333333\n",
      "CPU times: user 705 ms, sys: 16.3 ms, total: 721 ms\n",
      "Wall time: 743 ms\n"
     ]
    }
   ],
   "source": [
    "%%time\n",
    "pipeline_4_category = make_pipeline(CountVectorizer(min_df=1, ngram_range=(1, 1), stop_words=stop_words),\n",
    "                             TfidfTransformer(sublinear_tf=False, smooth_idf=True),\n",
    "                             LogisticRegression(solver='saga', multi_class='multinomial',\n",
    "                                                random_state=0)\n",
    "                            )\n",
    "pipeline_4_category.fit(X_train, y_train_4cat)\n",
    "print(accuracy_score(pipeline_4_category.predict(X_test), y_test_4cat))\n"
   ]
  },
  {
   "cell_type": "code",
   "execution_count": 7,
   "metadata": {
    "collapsed": true
   },
   "outputs": [],
   "source": [
    "class predict_model:\n",
    "    train = \"\"\n",
    "    X = \"\"\n",
    "    y = \"\"\n",
    "    X_train = \"\"\n",
    "    X_test = \"\"\n",
    "    y_train = \"\"\n",
    "    y_test = \"\"\n",
    "    pipeline = \"\"\n",
    "    y_predicted = \"\"\n",
    "    c_id_shift = 0\n",
    "    \n",
    "    def __init__(this, train, shift):\n",
    "        this.train = train\n",
    "        this.c_id_shift = shift"
   ]
  },
  {
   "cell_type": "code",
   "execution_count": 8,
   "metadata": {},
   "outputs": [],
   "source": [
    "train[\"text\"] = X\n",
    "train_light = train.drop(['title', 'description'], axis = 1)\n",
    "train_1 = train_light.query(\"category_id < 15\")\n",
    "train_2 = train_light.query(\"category_id < 30\").query(\"category_id >= 15\")\n",
    "train_3 = train_light.query(\"category_id < 42\").query(\"category_id >= 30\")\n",
    "train_4 = train_light.query(\"category_id >= 42\")\n",
    "models = [predict_model(train_1, 0), predict_model(train_2, 15), predict_model(train_3, 30), \n",
    "          predict_model(train_4, 42)]"
   ]
  },
  {
   "cell_type": "code",
   "execution_count": 9,
   "metadata": {},
   "outputs": [],
   "source": [
    "for model in models:\n",
    "    model.X = model.train.drop([\"item_id\", \"category_id\"], axis = 1)\n",
    "    model.y = model.train[\"category_id\"].values\n",
    "    model.X_train, model.X_test, model.y_train, model.y_test =\\\n",
    "    train_test_split(model.X, model.y, test_size=0.02, random_state=42, shuffle = True)"
   ]
  },
  {
   "cell_type": "code",
   "execution_count": 10,
   "metadata": {},
   "outputs": [
    {
     "name": "stdout",
     "output_type": "stream",
     "text": [
      "0.814814814815\n",
      "0.862068965517\n",
      "0.869565217391\n",
      "0.695652173913\n"
     ]
    }
   ],
   "source": [
    "for mdl in models:\n",
    "    pipeline = make_pipeline(CountVectorizer(min_df=1, ngram_range=(1, 1), stop_words=stop_words),\n",
    "                         TfidfTransformer(sublinear_tf=False, smooth_idf=True),\n",
    "                         LogisticRegression(solver='saga', multi_class='multinomial',\n",
    "                                            random_state=0)\n",
    "                        )\n",
    "    pipeline.fit(mdl.X_train[\"text\"], mdl.y_train)\n",
    "    mdl.pipeline = pipeline\n",
    "    mdl.y_predicted = pipeline.predict(mdl.X_test[\"text\"])\n",
    "    print(accuracy_score(mdl.y_predicted, mdl.y_test))"
   ]
  },
  {
   "cell_type": "code",
   "execution_count": 11,
   "metadata": {},
   "outputs": [],
   "source": [
    "predict_by_4_cat = pipeline_4_category.predict(X_test)\n",
    "predict_by_all_cat = list()\n",
    "for i in range(predict_by_4_cat.shape[0]):\n",
    "    current_predict = models[predict_by_4_cat[i]].pipeline.predict([X_test[i]])\n",
    "    predict_by_all_cat.append(current_predict[0])\n",
    "predict_by_all_cat = np.array(predict_by_all_cat)"
   ]
  },
  {
   "cell_type": "code",
   "execution_count": 12,
   "metadata": {},
   "outputs": [
    {
     "data": {
      "text/plain": [
       "0.86599999999999999"
      ]
     },
     "execution_count": 12,
     "metadata": {},
     "output_type": "execute_result"
    }
   ],
   "source": [
    "accuracy_score(predict_by_all_cat, y_test)"
   ]
  },
  {
   "cell_type": "code",
   "execution_count": 13,
   "metadata": {},
   "outputs": [
    {
     "ename": "ZeroDivisionError",
     "evalue": "float division by zero",
     "output_type": "error",
     "traceback": [
      "\u001b[0;31m---------------------------------------------------------------------------\u001b[0m",
      "\u001b[0;31mZeroDivisionError\u001b[0m                         Traceback (most recent call last)",
      "\u001b[0;32m<ipython-input-13-bd1cf73af407>\u001b[0m in \u001b[0;36m<module>\u001b[0;34m()\u001b[0m\n\u001b[1;32m      1\u001b[0m \u001b[0;32mfor\u001b[0m \u001b[0mmdl\u001b[0m \u001b[0;32min\u001b[0m \u001b[0mmodels\u001b[0m\u001b[0;34m:\u001b[0m\u001b[0;34m\u001b[0m\u001b[0m\n\u001b[0;32m----> 2\u001b[0;31m     \u001b[0mvisualize_confusion_matrix\u001b[0m\u001b[0;34m(\u001b[0m\u001b[0mconfusion_matrix\u001b[0m\u001b[0;34m(\u001b[0m\u001b[0mmdl\u001b[0m\u001b[0;34m.\u001b[0m\u001b[0my_test\u001b[0m\u001b[0;34m,\u001b[0m \u001b[0mmdl\u001b[0m\u001b[0;34m.\u001b[0m\u001b[0my_predicted\u001b[0m\u001b[0;34m)\u001b[0m\u001b[0;34m)\u001b[0m\u001b[0;34m\u001b[0m\u001b[0m\n\u001b[0m",
      "\u001b[0;32m~/Coding/ML/test-aufgabe-winter-2017/confustion_matrix_tools.py\u001b[0m in \u001b[0;36mvisualize_confusion_matrix\u001b[0;34m(confusion_matrix)\u001b[0m\n\u001b[1;32m     10\u001b[0m         \u001b[0ma\u001b[0m \u001b[0;34m=\u001b[0m \u001b[0msum\u001b[0m\u001b[0;34m(\u001b[0m\u001b[0mi\u001b[0m\u001b[0;34m,\u001b[0m \u001b[0;36m0\u001b[0m\u001b[0;34m)\u001b[0m\u001b[0;34m\u001b[0m\u001b[0m\n\u001b[1;32m     11\u001b[0m         \u001b[0;32mfor\u001b[0m \u001b[0mj\u001b[0m \u001b[0;32min\u001b[0m \u001b[0mi\u001b[0m\u001b[0;34m:\u001b[0m\u001b[0;34m\u001b[0m\u001b[0m\n\u001b[0;32m---> 12\u001b[0;31m             \u001b[0mtmp_arr\u001b[0m\u001b[0;34m.\u001b[0m\u001b[0mappend\u001b[0m\u001b[0;34m(\u001b[0m\u001b[0mfloat\u001b[0m\u001b[0;34m(\u001b[0m\u001b[0mj\u001b[0m\u001b[0;34m)\u001b[0m\u001b[0;34m/\u001b[0m\u001b[0mfloat\u001b[0m\u001b[0;34m(\u001b[0m\u001b[0ma\u001b[0m\u001b[0;34m)\u001b[0m\u001b[0;34m)\u001b[0m\u001b[0;34m\u001b[0m\u001b[0m\n\u001b[0m\u001b[1;32m     13\u001b[0m         \u001b[0mnorm_conf\u001b[0m\u001b[0;34m.\u001b[0m\u001b[0mappend\u001b[0m\u001b[0;34m(\u001b[0m\u001b[0mtmp_arr\u001b[0m\u001b[0;34m)\u001b[0m\u001b[0;34m\u001b[0m\u001b[0m\n\u001b[1;32m     14\u001b[0m \u001b[0;34m\u001b[0m\u001b[0m\n",
      "\u001b[0;31mZeroDivisionError\u001b[0m: float division by zero"
     ]
    },
    {
     "data": {
      "image/png": "[encoded data removed]",
      "text/plain": [
       "<matplotlib.figure.Figure at 0x11061cb38>"
      ]
     },
     "metadata": {},
     "output_type": "display_data"
    }
   ],
   "source": [
    "for mdl in models:\n",
    "    visualize_confusion_matrix(confusion_matrix(mdl.y_test, mdl.y_predicted))"
   ]
  },
  {
   "cell_type": "code",
   "execution_count": null,
   "metadata": {},
   "outputs": [],
   "source": [
    "def calculate_treshold_for_categories_to_recalculate(conf_matr):\n",
    "    data = []\n",
    "    for i in range(len(conf_matr)):\n",
    "        for j in range(len(conf_matr[0])):\n",
    "            if i != j:\n",
    "                data.append(conf_matr[i][j])\n",
    "    return st.mean(data) + 2 * st.stdev(data)"
   ]
  },
  {
   "cell_type": "code",
   "execution_count": null,
   "metadata": {},
   "outputs": [],
   "source": [
    "failed_pairs = []\n",
    "for mdl in models:\n",
    "    conf_matr = confusion_matrix(mdl.y_test, mdl.y_predicted)\n",
    "\n",
    "    category_pairs_to_recalculate_limit = 10\n",
    "    limit = calculate_treshold_for_categories_to_recalculate(conf_matr)\n",
    "    for i in range(len(conf_matr)):\n",
    "        for j in range(len(conf_matr[i])):\n",
    "            if i != j and conf_matr[i][j] > limit:\n",
    "                failed_pairs.append([i + mdl.c_id_shift, j + mdl.c_id_shift, conf_matr[i,j]])\n",
    "    failed_pairs.sort(key = lambda x: -x[2])\n",
    "    failed_pairs = failed_pairs[:category_pairs_to_recalculate_limit]"
   ]
  },
  {
   "cell_type": "code",
   "execution_count": null,
   "metadata": {},
   "outputs": [],
   "source": [
    "def pair_cat_refinementer(cid1, cid2):\n",
    "    _train_cat_1 = train_light.query(\"category_id == \" + str(cid1))\n",
    "    _train_cat_2 = train_light.query(\"category_id == \" + str(cid2))\n",
    "    _train_data = _train_cat_1.append(_train_cat_2)\n",
    "\n",
    "    _X = _train_data[\"text\"].values\n",
    "    _y = _train_data[\"category_id\"].values\n",
    "    _X_train, _X_test, _y_train, _y_test = train_test_split(_X, _y, test_size=0.05,\n",
    "                                                        random_state=42, shuffle = True)\n",
    "\n",
    "    _pipeline = make_pipeline(CountVectorizer(min_df=1, ngram_range=(1, 1), stop_words=stop_words),\n",
    "                             TfidfTransformer(sublinear_tf=False, smooth_idf=True),\n",
    "                             LogisticRegression(solver='saga', multi_class='multinomial', random_state=0))\n",
    "    _pipeline.fit(_X_train, _y_train)\n",
    "    return _pipeline"
   ]
  },
  {
   "cell_type": "code",
   "execution_count": null,
   "metadata": {},
   "outputs": [],
   "source": [
    "for pair in failed_pairs:\n",
    "    cid1 = pair[0]\n",
    "    cid2 = pair[1]\n",
    "    pipeline = pair_cat_refinementer(cid1, cid2)\n",
    "    predict_by_all_cat[predict_by_all_cat == cid1] = pipeline.predict(X_test[predict_by_all_cat == cid1])\n",
    "    predict_by_all_cat[predict_by_all_cat == cid2] = pipeline.predict(X_test[predict_by_all_cat == cid2])"
   ]
  },
  {
   "cell_type": "code",
   "execution_count": null,
   "metadata": {},
   "outputs": [],
   "source": [
    "accuracy_score(predict_by_all_cat, y_test)\n",
    "# 0.90181538377730563"
   ]
  },
  {
   "cell_type": "code",
   "execution_count": null,
   "metadata": {},
   "outputs": [],
   "source": [
    "# # price column \n",
    "# def price_column(X):\n",
    "#     return np.array(\n",
    "#         scaler.fit_transform(X[\"price\"].values.reshape(len(X[\"price\"]), 1)))\n",
    "\n",
    "# count_vectorizer = CountVectorizer(min_df=1, ngram_range=(1, 2), stop_words=stop_words)\n",
    "# transformer = TfidfTransformer(sublinear_tf=False, smooth_idf=True)\n",
    "# regressor = LogisticRegression(max_iter = 100000, solver='saga', multi_class='multinomial', random_state=0)\n",
    "# scaler = StandardScaler(with_mean=False)\n",
    "\n",
    "# ENABLE_PRICE_COLUMN = False\n",
    "# X1train_transformed = count_vectorizer.fit_transform(X1_train[\"text\"])\n",
    "# X1train_transformed = transformer.fit_transform(X1train_transformed)\n",
    "# if ENABLE_PRICE_COLUMN: X1train_transformed = hstack((X1train_transformed, price_column(X1_train)))\n",
    "# regressor.fit(X1train_transformed, y1_train)\n",
    "\n",
    "# X1test_transformed = count_vectorizer.transform(X1_test[\"text\"])\n",
    "# X1test_transformed = transformer.transform(X1test_transformed)\n",
    "# if ENABLE_PRICE_COLUMN: X1test_transformed = hstack((X1test_transformed, price_column(X1_test)))\n",
    "    \n",
    "# print(accuracy_score(regressor.predict(X1test_transformed), y1_test))"
   ]
  }
 ],
 "metadata": {
  "kernelspec": {
   "display_name": "Python 3",
   "language": "python",
   "name": "python3"
  },
  "language_info": {
   "codemirror_mode": {
    "name": "ipython",
    "version": 3
   },
   "file_extension": ".py",
   "mimetype": "text/x-python",
   "name": "python",
   "nbconvert_exporter": "python",
   "pygments_lexer": "ipython3",
   "version": "3.6.2"
  }
 },
 "nbformat": 4,
 "nbformat_minor": 2
}
